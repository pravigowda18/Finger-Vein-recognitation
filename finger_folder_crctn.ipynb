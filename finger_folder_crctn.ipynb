{
 "cells": [
  {
   "cell_type": "code",
   "execution_count": 3,
   "id": "313062a1-e917-48aa-9218-a1378f0c9572",
   "metadata": {},
   "outputs": [
    {
     "name": "stdout",
     "output_type": "stream",
     "text": [
      "Files have been successfully moved.\n"
     ]
    }
   ],
   "source": [
    "import os\n",
    "import shutil\n",
    "\n",
    "# Define the root directory where the 'finger' directory is located\n",
    "root_dir = 'E:/Machine Learning Project/finger/'\n",
    "\n",
    "# Iterate through each person folder inside 'finger'\n",
    "for person in os.listdir(root_dir):\n",
    "    person_folder = os.path.join(root_dir, person)\n",
    "    \n",
    "    # Check if the person folder exists and it's a directory\n",
    "    if os.path.isdir(person_folder):\n",
    "        \n",
    "        # Iterate through 'left' and 'right' folders\n",
    "        for side in ['left', 'right']:\n",
    "            side_folder = os.path.join(person_folder, side)\n",
    "            \n",
    "            if os.path.isdir(side_folder):\n",
    "                # Create 'middle', 'index', 'ring' folders inside 'left' or 'right'\n",
    "                for finger_type in ['middle', 'index', 'ring']:\n",
    "                    finger_folder = os.path.join(side_folder, finger_type)\n",
    "                    \n",
    "                    # Create the folder if it doesn't exist\n",
    "                    if not os.path.exists(finger_folder):\n",
    "                        os.makedirs(finger_folder)\n",
    "                    \n",
    "                    # Move the corresponding .bmp images to the new folders\n",
    "                    for i in range(1, 7):  # From index_1.bmp to index_6.bmp, etc.\n",
    "                        image_name = f\"{finger_type}_{i}.bmp\"\n",
    "                        image_path = os.path.join(side_folder, image_name)\n",
    "                        \n",
    "                        if os.path.exists(image_path):\n",
    "                            # Move the image to the new folder\n",
    "                            shutil.move(image_path, os.path.join(finger_folder, image_name))\n",
    "\n",
    "print(\"Files have been successfully moved.\")\n"
   ]
  },
  {
   "cell_type": "code",
   "execution_count": null,
   "id": "ae4cd30e-3f79-46ea-898a-5b6b93276a73",
   "metadata": {},
   "outputs": [],
   "source": []
  }
 ],
 "metadata": {
  "kernelspec": {
   "display_name": "Python 3 (ipykernel)",
   "language": "python",
   "name": "python3"
  },
  "language_info": {
   "codemirror_mode": {
    "name": "ipython",
    "version": 3
   },
   "file_extension": ".py",
   "mimetype": "text/x-python",
   "name": "python",
   "nbconvert_exporter": "python",
   "pygments_lexer": "ipython3",
   "version": "3.12.7"
  }
 },
 "nbformat": 4,
 "nbformat_minor": 5
}
